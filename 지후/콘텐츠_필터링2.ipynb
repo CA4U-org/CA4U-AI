{
  "cells": [
    {
      "cell_type": "code",
      "execution_count": 1,
      "metadata": {
        "id": "oPli8XYEbw5H"
      },
      "outputs": [
        {
          "ename": "ModuleNotFoundError",
          "evalue": "No module named 'pandas'",
          "output_type": "error",
          "traceback": [
            "\u001b[0;31m---------------------------------------------------------------------------\u001b[0m",
            "\u001b[0;31mModuleNotFoundError\u001b[0m                       Traceback (most recent call last)",
            "Cell \u001b[0;32mIn[1], line 1\u001b[0m\n\u001b[0;32m----> 1\u001b[0m \u001b[38;5;28;01mimport\u001b[39;00m \u001b[38;5;21;01mpandas\u001b[39;00m \u001b[38;5;28;01mas\u001b[39;00m \u001b[38;5;21;01mpd\u001b[39;00m\n\u001b[1;32m      2\u001b[0m \u001b[38;5;28;01mfrom\u001b[39;00m \u001b[38;5;21;01msklearn\u001b[39;00m\u001b[38;5;21;01m.\u001b[39;00m\u001b[38;5;21;01mfeature_extraction\u001b[39;00m\u001b[38;5;21;01m.\u001b[39;00m\u001b[38;5;21;01mtext\u001b[39;00m \u001b[38;5;28;01mimport\u001b[39;00m TfidfVectorizer\n\u001b[1;32m      3\u001b[0m \u001b[38;5;28;01mfrom\u001b[39;00m \u001b[38;5;21;01msklearn\u001b[39;00m\u001b[38;5;21;01m.\u001b[39;00m\u001b[38;5;21;01mmetrics\u001b[39;00m\u001b[38;5;21;01m.\u001b[39;00m\u001b[38;5;21;01mpairwise\u001b[39;00m \u001b[38;5;28;01mimport\u001b[39;00m cosine_similarity\n",
            "\u001b[0;31mModuleNotFoundError\u001b[0m: No module named 'pandas'"
          ]
        }
      ],
      "source": [
        "import pandas as pd\n",
        "from sklearn.feature_extraction.text import TfidfVectorizer\n",
        "from sklearn.metrics.pairwise import cosine_similarity\n",
        "import numpy as np\n",
        "\n",
        "#### Fetcher\n",
        "# 파일 경로 및 데이터 로드\n",
        "file_path = '/content/CA4Udata.xlsx'\n",
        "df = pd.read_excel(file_path)\n",
        "\n",
        "#### Adapter\n",
        "# 필요한 칼럼만 선택 (수정된 칼럼으로 변경)\n",
        "데이터 일반화 시키는 함수\n",
        "columns_to_use = ['clubNm', 'briefDescription', 'recruitDescription', 'targetPeopleDescription', 'targetCycleDescription',\n",
        "                  'applyDescription', 'actDayDescription', 'locationDescription', 'costDescription', 'specDescription']\n",
        "data = df[columns_to_use].copy()\n",
        "\n",
        "#### Preprocessor\n",
        "# 불용어 리스트 (필요 시 수정)\n",
        "stopwords = ['중앙대', '중앙대학교', '동아리', 'PM', '명', '기수', '기존', '기존부원', '신입', '신입부원', '1학기', '00', '정기모임', '기준', '약', '2024', '부원', '여']\n",
        "\n",
        "# 전처리 함수\n",
        "def preprocess_text(text):\n",
        "    text = str(text)  # 문자열로 변환\n",
        "    for stopword in stopwords:\n",
        "        text = text.replace(stopword, '')\n",
        "    return text\n",
        "\n",
        "# 각 칼럼에 전처리 적용\n",
        "for col in data.columns[1:]:\n",
        "    data[col] = data[col].apply(preprocess_text)\n",
        "\n",
        "# TF-IDF 벡터화 및 토큰 추출\n",
        "tfidf_matrix = {}\n",
        "tokens = {}\n",
        "\n",
        "for col in data.columns[1:]:  # '단체명'은 제외하고 벡터화\n",
        "    vectorizer = TfidfVectorizer(token_pattern=r\"(?u)\\b\\w+\\b\")  # 한 글자 단위도 포함\n",
        "    tfidf_matrix[col] = vectorizer.fit_transform(data[col])\n",
        "    tokens[col] = vectorizer.get_feature_names_out()\n",
        "\n",
        "#### Analysis\n",
        "# 코사인 유사도 계산\n",
        "cosine_sim = {}\n",
        "\n",
        "for col in data.columns[1:]:\n",
        "    cosine_sim[col] = cosine_similarity(tfidf_matrix[col])\n",
        "\n",
        "# 가중치 적용 (수정된 가중치)\n",
        "weights = {\n",
        "    'clubNm' : 0,\n",
        "    'briefDescription' : 0.5,\n",
        "    'recruitDescription' : 0.5,\n",
        "    'targetPeopleDescription' : 0.3,\n",
        "    'targetCycleDescription' : 0.1,\n",
        "    'applyDescription' : 0.3,\n",
        "    'actDayDescription' : 0.3,\n",
        "    'locationDescription' : 0.1,\n",
        "    'costDescription' : 0.1,\n",
        "    'specDescription' : 0.3\n",
        "}\n",
        "\n",
        "# 최종 유사도 계산\n",
        "final_similarity = np.zeros_like(cosine_sim[data.columns[1]])\n",
        "\n",
        "for col in data.columns[1:]:\n",
        "    final_similarity += weights[col] * cosine_sim[col]\n",
        "\n",
        "# 추천 시스템 구현\n",
        "def recommend_clubs(selected_club, top_n=3):\n",
        "    idx = data[data['Name'] == selected_club].index[0]\n",
        "    sim_scores = list(enumerate(final_similarity[idx]))\n",
        "    sim_scores = sorted(sim_scores, key=lambda x: x[1], reverse=True)\n",
        "    sim_scores = [x for x in sim_scores if x[0] != idx]  # 선택한 단체 제외\n",
        "    top_clubs = [data['Name'][i[0]] for i in sim_scores[:top_n]]\n",
        "    return top_clubs\n",
        "\n",
        "#### Model\n",
        "# 사용 예시\n",
        "selected_club = '피카통'\n",
        "recommended_clubs = recommend_clubs(selected_club)\n",
        "print(f\"'{selected_club}'와 유사한 추천 동아리: {recommended_clubs}\")"
      ]
    }
  ],
  "metadata": {
    "colab": {
      "provenance": []
    },
    "kernelspec": {
      "display_name": "Python 3",
      "name": "python3"
    },
    "language_info": {
      "codemirror_mode": {
        "name": "ipython",
        "version": 3
      },
      "file_extension": ".py",
      "mimetype": "text/x-python",
      "name": "python",
      "nbconvert_exporter": "python",
      "pygments_lexer": "ipython3",
      "version": "3.12.2"
    }
  },
  "nbformat": 4,
  "nbformat_minor": 0
}
